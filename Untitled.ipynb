{
 "cells": [
  {
   "cell_type": "code",
   "execution_count": 79,
   "id": "91ad838e",
   "metadata": {},
   "outputs": [
    {
     "data": {
      "image/png": "[encoded data removed]",
      "text/plain": [
       "<Figure size 432x288 with 1 Axes>"
      ]
     },
     "metadata": {
      "needs_background": "light"
     },
     "output_type": "display_data"
    }
   ],
   "source": [
    "from bs4 import BeautifulSoup\n",
    "import requests\n",
    "import json\n",
    "\n",
    "# In[ ]:\n",
    "\n",
    "\n",
    "from bs4 import BeautifulSoup\n",
    "import requests\n",
    "\n",
    "\n",
    "# In[ ]:\n",
    "\n",
    "\n",
    "URL = \"https://www.worldometers.info/coronavirus/country/uk/\"\n",
    "\n",
    "\n",
    "# In[ ]:\n",
    "\n",
    "\n",
    "parsed_html = requests.get(URL)\n",
    "soup = BeautifulSoup(parsed_html.content, \"html.parser\")\n",
    "\n",
    "\n",
    "# In[ ]:\n",
    "\n",
    "\n",
    "scripts = soup.find_all('script')\n",
    "script = scripts[21].text\n",
    "\n",
    "\n",
    "# In[ ]:\n",
    "\n",
    "\n",
    "import json\n",
    "dates = script.split(\"categories: [\",1)[1].split(\"]\",1)[0]\n",
    "dates = \"[\"+dates+\"]\"\n",
    "dates = json.loads(dates)\n",
    "\n",
    "\n",
    "# In[ ]:\n",
    "\n",
    "\n",
    "data = script.split(\"data: [\",1)[1].split(\"]\",1)[0]\n",
    "data = \"[\"+data+\"]\"\n",
    "data = json.loads(data)\n",
    "\n",
    "\n",
    "# In[ ]:\n",
    "\n",
    "\n",
    "import matplotlib.pyplot as plt\n",
    "plt.bar(dates[1:],data[1:])\n",
    "\n",
    "\n",
    "# In[ ]:\n",
    "\n",
    "import matplotlib.pyplot as plt"
   ]
  },
  {
   "cell_type": "code",
   "execution_count": null,
   "id": "b1cdcde0",
   "metadata": {},
   "outputs": [],
   "source": []
  }
 ],
 "metadata": {
  "kernelspec": {
   "display_name": "Python 3 (ipykernel)",
   "language": "python",
   "name": "python3"
  },
  "language_info": {
   "codemirror_mode": {
    "name": "ipython",
    "version": 3
   },
   "file_extension": ".py",
   "mimetype": "text/x-python",
   "name": "python",
   "nbconvert_exporter": "python",
   "pygments_lexer": "ipython3",
   "version": "3.9.7"
  }
 },
 "nbformat": 4,
 "nbformat_minor": 5
}
